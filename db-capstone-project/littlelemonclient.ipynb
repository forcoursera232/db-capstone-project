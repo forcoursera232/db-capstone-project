{
 "cells": [
  {
   "cell_type": "code",
   "execution_count": 1,
   "id": "d6b65cc9-ae71-4eca-8bae-3d5295052b40",
   "metadata": {},
   "outputs": [],
   "source": [
    "# import connector and create connection\n",
    "import mysql.connector as connector\n",
    "\n",
    "connection = connector.connect(user = \"root\", password = \"\", db=\"littlelemondb\")\n",
    "\n",
    "\n",
    "# create the cursor\n",
    "cursor = connection.cursor()"
   ]
  },
  {
   "cell_type": "code",
   "execution_count": 2,
   "id": "2901d08d-445a-4df6-8cdc-d8e9cb1b2a0d",
   "metadata": {},
   "outputs": [
    {
     "data": {
      "text/plain": [
       "'littlelemondb'"
      ]
     },
     "execution_count": 2,
     "metadata": {},
     "output_type": "execute_result"
    }
   ],
   "source": [
    "# connect to the correct database\n",
    "cursor.execute(\"use littlelemondb\")\n",
    "\n",
    "# check database in use\n",
    "connection.database"
   ]
  },
  {
   "cell_type": "code",
   "execution_count": 3,
   "id": "769486ae-4bc7-4d76-929d-c6b9844324b3",
   "metadata": {},
   "outputs": [
    {
     "name": "stdout",
     "output_type": "stream",
     "text": [
      "('bookings',)\n",
      "('customer',)\n",
      "('delivery_status',)\n",
      "('menu',)\n",
      "('menuitems',)\n",
      "('orders',)\n",
      "('ordersview',)\n",
      "('staff',)\n"
     ]
    }
   ],
   "source": [
    "# query to get list of tables in db\n",
    "show_tables_query = \"show tables\" \n",
    "\n",
    "# execute the query\n",
    "cursor.execute(show_tables_query)\n",
    "\n",
    "# fetching and printing results\n",
    "results = cursor.fetchall()\n",
    "\n",
    "for result in results:\n",
    "    print(result)\n"
   ]
  },
  {
   "cell_type": "code",
   "execution_count": 4,
   "id": "297ab9eb-e004-4e1b-93b9-cb24a45f1b79",
   "metadata": {},
   "outputs": [
    {
     "name": "stdout",
     "output_type": "stream",
     "text": [
      "('CustomerID', 'FullName', 'TotalCost', 'ContactNumber', 'Email')\n",
      "(3, 'Vanessa McCarthy', Decimal('150'), '550-553', 'Vanessa@email.com')\n",
      "(5, 'Hiroki Yamane', Decimal('100'), '555-7776', 'Hiroki@email.com')\n",
      "(4, 'Marcos Romero', Decimal('200'), '550-3344', 'Marcos@email.com')\n",
      "(6, 'Diana Pinto', Decimal('175'), '555-0033', 'Diana@email.com')\n"
     ]
    }
   ],
   "source": [
    "# create query for greater than 60$ orders\n",
    "gt_order_query = \"select c.CustomerID, c.FullName, o.TotalCost, c.ContactNumber, c.Email from customer c join orders o on o.CustomerID = c.CustomerID where o.TotalCost > 60\"\n",
    "\n",
    "# execute query\n",
    "cursor.execute(gt_order_query)\n",
    "\n",
    "# fetch results of query and the column names\n",
    "results = cursor.fetchall()\n",
    "\n",
    "cols = cursor.column_names\n",
    "\n",
    "# print column names with the results of the query\n",
    "print(cols)\n",
    "\n",
    "for result in results:\n",
    "    print(result)"
   ]
  },
  {
   "cell_type": "code",
   "execution_count": 5,
   "id": "a7b2c5dd-1cf2-4921-908e-802195acc51c",
   "metadata": {},
   "outputs": [],
   "source": [
    "cursor.close()\n",
    "connection.close()"
   ]
  },
  {
   "cell_type": "code",
   "execution_count": null,
   "id": "2207206e-4c8c-422f-835d-b7080801f6f3",
   "metadata": {},
   "outputs": [],
   "source": []
  }
 ],
 "metadata": {
  "kernelspec": {
   "display_name": "Python 3 (ipykernel)",
   "language": "python",
   "name": "python3"
  },
  "language_info": {
   "codemirror_mode": {
    "name": "ipython",
    "version": 3
   },
   "file_extension": ".py",
   "mimetype": "text/x-python",
   "name": "python",
   "nbconvert_exporter": "python",
   "pygments_lexer": "ipython3",
   "version": "3.11.1"
  }
 },
 "nbformat": 4,
 "nbformat_minor": 5
}
